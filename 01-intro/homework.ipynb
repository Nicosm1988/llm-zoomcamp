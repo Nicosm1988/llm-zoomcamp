{
 "cells": [
  {
   "cell_type": "code",
   "execution_count": 2,
   "id": "1794f55a-c15f-415a-8f4b-ba926ecd05f8",
   "metadata": {},
   "outputs": [],
   "source": [
    "import os\n",
    "import google.generativeai as genai"
   ]
  },
  {
   "cell_type": "code",
   "execution_count": 3,
   "id": "18c3ea1e-5580-4d47-b49d-e4e5649172a8",
   "metadata": {},
   "outputs": [],
   "source": [
    "# Esta celda lee la API key que definiste en la terminal.\n",
    "# Si no hay errores, significa que la autenticación fue exitosa.\n",
    "genai.configure(api_key=os.environ['GOOGLE_API_KEY'])"
   ]
  },
  {
   "cell_type": "code",
   "execution_count": 4,
   "id": "043113a9-088d-46d5-b73c-c25bbdbd250f",
   "metadata": {},
   "outputs": [],
   "source": [
    "# Seleccionamos el modelo que vamos a utilizar\n",
    "model = genai.GenerativeModel('gemini-1.5-flash')"
   ]
  },
  {
   "cell_type": "code",
   "execution_count": 5,
   "id": "f0569b81-0029-44ff-b500-6f8059a628ab",
   "metadata": {},
   "outputs": [
    {
     "name": "stdout",
     "output_type": "stream",
     "text": [
      "That depends entirely on the course!  To answer your question, I need more information.  Please tell me:\n",
      "\n",
      "* **What course is it?** (e.g., Introduction to Python, Advanced Calculus, Beginner's Pottery)  Knowing the name or subject helps.\n",
      "* **Where is the course offered?** (e.g., a university, an online platform like Coursera, a local community center)  Different institutions have different deadlines.\n",
      "* **When does the course start and end?**  This is crucial to determine if you can still join.\n",
      "* **Has the course already started?** If so, how far along are they?\n",
      "\n",
      "With this information, I can help you determine if it's too late.\n",
      "\n"
     ]
    }
   ],
   "source": [
    "# 1. Define la pregunta que quieres hacer\n",
    "prompt = \"is it too late to join the course?\"\n",
    "\n",
    "# 2. Envía la pregunta al modelo y guarda la respuesta\n",
    "response = model.generate_content(prompt)\n",
    "\n",
    "# 3. Imprime el texto de la respuesta en pantalla\n",
    "print(response.text)"
   ]
  },
  {
   "cell_type": "code",
   "execution_count": null,
   "id": "552cf2dc-b345-4bff-b82e-c47a8981d193",
   "metadata": {},
   "outputs": [],
   "source": []
  }
 ],
 "metadata": {
  "kernelspec": {
   "display_name": "Python 3 (ipykernel)",
   "language": "python",
   "name": "python3"
  },
  "language_info": {
   "codemirror_mode": {
    "name": "ipython",
    "version": 3
   },
   "file_extension": ".py",
   "mimetype": "text/x-python",
   "name": "python",
   "nbconvert_exporter": "python",
   "pygments_lexer": "ipython3",
   "version": "3.12.1"
  }
 },
 "nbformat": 4,
 "nbformat_minor": 5
}
