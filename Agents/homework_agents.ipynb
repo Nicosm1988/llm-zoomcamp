{
 "cells": [
  {
   "cell_type": "code",
   "execution_count": 1,
   "id": "ea6c26c4-336a-4ffd-9820-db4bdf5a4aa0",
   "metadata": {},
   "outputs": [],
   "source": [
    "import random\n",
    "\n",
    "known_weather_data = {\n",
    "    'berlin': 20.0\n",
    "}\n",
    "\n",
    "def get_weather(city: str) -> float:\n",
    "    city = city.strip().lower()\n",
    "    if city in known_weather_data:\n",
    "        return known_weather_data[city]\n",
    "    return round(random.uniform(-5, 35), 1)"
   ]
  },
  {
   "cell_type": "code",
   "execution_count": 2,
   "id": "5f1bb3b8-53f3-48fc-ba14-b0942db37914",
   "metadata": {},
   "outputs": [
    {
     "name": "stdout",
     "output_type": "stream",
     "text": [
      "The value for TODO3 is: 'city'\n"
     ]
    }
   ],
   "source": [
    "get_weather_tool = {\n",
    "    \"type\": \"function\",\n",
    "    \"function\": {\n",
    "        \"name\": \"get_weather\",\n",
    "        \"description\": \"Get the current weather for a specific city.\",\n",
    "        \"parameters\": {\n",
    "            \"type\": \"object\",\n",
    "            \"properties\": {\n",
    "                \"city\": {\n",
    "                    \"type\": \"string\",\n",
    "                    \"description\": \"The name of the city for which to get the weather, e.g., Berlin.\"\n",
    "                }\n",
    "            },\n",
    "            \"required\": [\"city\"]\n",
    "        }\n",
    "    }\n",
    "}\n",
    "\n",
    "todo3_answer = list(get_weather_tool['function']['parameters']['properties'].keys())[0]\n",
    "print(f\"The value for TODO3 is: '{todo3_answer}'\")"
   ]
  },
  {
   "cell_type": "code",
   "execution_count": 3,
   "id": "a2ed0d1d-eb79-47a9-bc36-76a9bf4aee1c",
   "metadata": {
    "scrolled": true
   },
   "outputs": [
    {
     "name": "stdout",
     "output_type": "stream",
     "text": [
      "{\n",
      "  \"type\": \"function\",\n",
      "  \"function\": {\n",
      "    \"name\": \"set_weather\",\n",
      "    \"description\": \"Sets or updates the temperature for a specified city in the database.\",\n",
      "    \"parameters\": {\n",
      "      \"type\": \"object\",\n",
      "      \"properties\": {\n",
      "        \"city\": {\n",
      "          \"type\": \"string\",\n",
      "          \"description\": \"The name of the city, e.g., 'London'.\"\n",
      "        },\n",
      "        \"temp\": {\n",
      "          \"type\": \"number\",\n",
      "          \"description\": \"The temperature in Celsius to set for the city.\"\n",
      "        }\n",
      "      },\n",
      "      \"required\": [\n",
      "        \"city\",\n",
      "        \"temp\"\n",
      "      ]\n",
      "    }\n",
      "  }\n",
      "}\n"
     ]
    }
   ],
   "source": [
    "import json\n",
    "\n",
    "def set_weather(city: str, temp: float) -> str:\n",
    "    city = city.strip().lower()\n",
    "    known_weather_data[city] = temp\n",
    "    return 'OK'\n",
    "\n",
    "set_weather_tool = {\n",
    "    \"type\": \"function\",\n",
    "    \"function\": {\n",
    "        \"name\": \"set_weather\",\n",
    "        \"description\": \"Sets or updates the temperature for a specified city in the database.\",\n",
    "        \"parameters\": {\n",
    "            \"type\": \"object\",\n",
    "            \"properties\": {\n",
    "                \"city\": {\n",
    "                    \"type\": \"string\",\n",
    "                    \"description\": \"The name of the city, e.g., 'London'.\"\n",
    "                },\n",
    "                \"temp\": {\n",
    "                    \"type\": \"number\",\n",
    "                    \"description\": \"The temperature in Celsius to set for the city.\"\n",
    "                }\n",
    "            },\n",
    "            \"required\": [\"city\", \"temp\"]\n",
    "        }\n",
    "    }\n",
    "}\n",
    "\n",
    "print(json.dumps(set_weather_tool, indent=2))"
   ]
  },
  {
   "cell_type": "code",
   "execution_count": 4,
   "id": "f774e376-e891-4f0f-ae67-9bba2c6345b4",
   "metadata": {},
   "outputs": [
    {
     "name": "stdout",
     "output_type": "stream",
     "text": [
      "2.11.1\n"
     ]
    }
   ],
   "source": [
    "import fastmcp\n",
    "print(fastmcp.__version__)"
   ]
  },
  {
   "cell_type": "code",
   "execution_count": null,
   "id": "d9ee8e56-9912-4714-b539-907237c0561d",
   "metadata": {},
   "outputs": [],
   "source": []
  }
 ],
 "metadata": {
  "kernelspec": {
   "display_name": "Python 3 (ipykernel)",
   "language": "python",
   "name": "python3"
  },
  "language_info": {
   "codemirror_mode": {
    "name": "ipython",
    "version": 3
   },
   "file_extension": ".py",
   "mimetype": "text/x-python",
   "name": "python",
   "nbconvert_exporter": "python",
   "pygments_lexer": "ipython3",
   "version": "3.12.10"
  }
 },
 "nbformat": 4,
 "nbformat_minor": 5
}
